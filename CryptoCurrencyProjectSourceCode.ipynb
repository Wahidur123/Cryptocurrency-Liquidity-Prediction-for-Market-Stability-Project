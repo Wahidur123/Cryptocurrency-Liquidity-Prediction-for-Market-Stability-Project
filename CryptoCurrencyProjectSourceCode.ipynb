{
  "nbformat": 4,
  "nbformat_minor": 0,
  "metadata": {
    "colab": {
      "provenance": []
    },
    "kernelspec": {
      "name": "python3",
      "display_name": "Python 3"
    },
    "language_info": {
      "name": "python"
    }
  },
  "cells": [
    {
      "cell_type": "markdown",
      "source": [
        "##**Cryptocurrency Liquidity Prediction Project 🚀**"
      ],
      "metadata": {
        "id": "mQu58LqPsywN"
      }
    },
    {
      "cell_type": "markdown",
      "source": [
        "**Importing necessary libraries:**"
      ],
      "metadata": {
        "id": "P-1g9uYntU-6"
      }
    },
    {
      "cell_type": "code",
      "execution_count": 2,
      "metadata": {
        "id": "JeJbjmeYlvw2"
      },
      "outputs": [],
      "source": [
        "import numpy as np\n",
        "import pandas as pd\n",
        "import matplotlib.pyplot as plt\n",
        "import seaborn as sns\n",
        "import warnings\n",
        "warnings.filterwarnings('ignore')"
      ]
    },
    {
      "cell_type": "markdown",
      "source": [
        "**Loading datasets:**"
      ],
      "metadata": {
        "id": "s25A2933tp6J"
      }
    },
    {
      "cell_type": "code",
      "source": [
        "df1=pd.read_csv('coin_gecko_2022-03-16.csv')"
      ],
      "metadata": {
        "id": "_x0r1A9lm7aX"
      },
      "execution_count": 4,
      "outputs": []
    },
    {
      "cell_type": "code",
      "source": [
        "df2=pd.read_csv('coin_gecko_2022-03-17.csv')"
      ],
      "metadata": {
        "id": "CvLFZMjbnORD"
      },
      "execution_count": 5,
      "outputs": []
    },
    {
      "cell_type": "markdown",
      "source": [
        "**Concating or Joining Datasets:**"
      ],
      "metadata": {
        "id": "AoTTKym6tzAU"
      }
    },
    {
      "cell_type": "code",
      "source": [
        "df = pd.concat([df1, df2], ignore_index=True)"
      ],
      "metadata": {
        "id": "vP2fZuzvnRoL"
      },
      "execution_count": 6,
      "outputs": []
    },
    {
      "cell_type": "code",
      "source": [
        "print(df.head())"
      ],
      "metadata": {
        "colab": {
          "base_uri": "https://localhost:8080/"
        },
        "id": "3ZA4AWJYnbE5",
        "outputId": "13e62e5d-0849-44ac-d882-7c3e18400d35"
      },
      "execution_count": 7,
      "outputs": [
        {
          "output_type": "stream",
          "name": "stdout",
          "text": [
            "       coin symbol         price     1h    24h     7d    24h_volume  \\\n",
            "0   Bitcoin    BTC  40859.460000  0.022  0.030  0.055  3.539076e+10   \n",
            "1  Ethereum    ETH   2744.410000  0.024  0.034  0.065  1.974870e+10   \n",
            "2    Tether   USDT      1.000000 -0.001 -0.001  0.000  5.793497e+10   \n",
            "3       BNB    BNB    383.430000  0.018  0.028  0.004  1.395854e+09   \n",
            "4  USD Coin   USDC      0.999874 -0.001  0.000 -0.000  3.872274e+09   \n",
            "\n",
            "        mkt_cap        date  \n",
            "0  7.709915e+11  2022-03-16  \n",
            "1  3.271044e+11  2022-03-16  \n",
            "2  7.996516e+10  2022-03-16  \n",
            "3  6.404382e+10  2022-03-16  \n",
            "4  5.222214e+10  2022-03-16  \n"
          ]
        }
      ]
    },
    {
      "cell_type": "code",
      "source": [
        "print(df.info())"
      ],
      "metadata": {
        "colab": {
          "base_uri": "https://localhost:8080/"
        },
        "id": "ORHz0slLnghm",
        "outputId": "f5cbfeb9-12a3-46ec-f5a2-2b7c93304b75"
      },
      "execution_count": 8,
      "outputs": [
        {
          "output_type": "stream",
          "name": "stdout",
          "text": [
            "<class 'pandas.core.frame.DataFrame'>\n",
            "RangeIndex: 1000 entries, 0 to 999\n",
            "Data columns (total 9 columns):\n",
            " #   Column      Non-Null Count  Dtype  \n",
            "---  ------      --------------  -----  \n",
            " 0   coin        1000 non-null   object \n",
            " 1   symbol      1000 non-null   object \n",
            " 2   price       1000 non-null   float64\n",
            " 3   1h          993 non-null    float64\n",
            " 4   24h         993 non-null    float64\n",
            " 5   7d          992 non-null    float64\n",
            " 6   24h_volume  993 non-null    float64\n",
            " 7   mkt_cap     1000 non-null   float64\n",
            " 8   date        1000 non-null   object \n",
            "dtypes: float64(6), object(3)\n",
            "memory usage: 70.4+ KB\n",
            "None\n"
          ]
        }
      ]
    },
    {
      "cell_type": "markdown",
      "source": [
        "**Handling Missing Values:**"
      ],
      "metadata": {
        "id": "LIiFe2xjoN1J"
      }
    },
    {
      "cell_type": "code",
      "source": [
        "print(df.isnull().sum())"
      ],
      "metadata": {
        "colab": {
          "base_uri": "https://localhost:8080/"
        },
        "id": "E-jjNeXOohB5",
        "outputId": "eaf17840-7a90-4f7c-d7df-8108383df59a"
      },
      "execution_count": 9,
      "outputs": [
        {
          "output_type": "stream",
          "name": "stdout",
          "text": [
            "coin          0\n",
            "symbol        0\n",
            "price         0\n",
            "1h            7\n",
            "24h           7\n",
            "7d            8\n",
            "24h_volume    7\n",
            "mkt_cap       0\n",
            "date          0\n",
            "dtype: int64\n"
          ]
        }
      ]
    },
    {
      "cell_type": "markdown",
      "source": [
        "**Dropping Missing Values:**"
      ],
      "metadata": {
        "id": "fI02Xyp-oseC"
      }
    },
    {
      "cell_type": "code",
      "source": [
        "df.dropna(inplace=True)\n",
        "print(\"After dropping missing values:\", df.shape)"
      ],
      "metadata": {
        "colab": {
          "base_uri": "https://localhost:8080/"
        },
        "id": "tpzqC1QJo4GA",
        "outputId": "be26dd26-4635-4f4b-ffe1-11b0f4f9e0a1"
      },
      "execution_count": 10,
      "outputs": [
        {
          "output_type": "stream",
          "name": "stdout",
          "text": [
            "After dropping missing values: (992, 9)\n"
          ]
        }
      ]
    },
    {
      "cell_type": "markdown",
      "source": [
        "**Converting The 'date' column to datetime format:**"
      ],
      "metadata": {
        "id": "CXvTpx0zpOzd"
      }
    },
    {
      "cell_type": "code",
      "source": [
        "df['date'] = pd.to_datetime(df['date'])\n",
        "print(df.dtypes)"
      ],
      "metadata": {
        "colab": {
          "base_uri": "https://localhost:8080/"
        },
        "id": "SK70lAAwpbD6",
        "outputId": "615cbf1c-3796-4771-a3bb-9c9b242c33fc"
      },
      "execution_count": 11,
      "outputs": [
        {
          "output_type": "stream",
          "name": "stdout",
          "text": [
            "coin                  object\n",
            "symbol                object\n",
            "price                float64\n",
            "1h                   float64\n",
            "24h                  float64\n",
            "7d                   float64\n",
            "24h_volume           float64\n",
            "mkt_cap              float64\n",
            "date          datetime64[ns]\n",
            "dtype: object\n"
          ]
        }
      ]
    },
    {
      "cell_type": "markdown",
      "source": [
        "**Checking for Duplicates:**"
      ],
      "metadata": {
        "id": "Fj91i0mpplge"
      }
    },
    {
      "cell_type": "code",
      "source": [
        "print(\"Duplicates:\", df.duplicated().sum())"
      ],
      "metadata": {
        "colab": {
          "base_uri": "https://localhost:8080/"
        },
        "id": "a564UA6npk90",
        "outputId": "44d92cb8-edf1-4c93-ddd7-075f4b313257"
      },
      "execution_count": 12,
      "outputs": [
        {
          "output_type": "stream",
          "name": "stdout",
          "text": [
            "Duplicates: 0\n"
          ]
        }
      ]
    },
    {
      "cell_type": "markdown",
      "source": [
        "###**EDA:**"
      ],
      "metadata": {
        "id": "kob6Z6uwqGPA"
      }
    },
    {
      "cell_type": "markdown",
      "source": [
        "**Summary Statistics:**"
      ],
      "metadata": {
        "id": "PKzbV4kbqQ6S"
      }
    },
    {
      "cell_type": "code",
      "source": [
        "df.describe()"
      ],
      "metadata": {
        "colab": {
          "base_uri": "https://localhost:8080/",
          "height": 300
        },
        "id": "vXgZbvn2qMbR",
        "outputId": "a36be788-adb5-4d91-a232-15475add7614"
      },
      "execution_count": 13,
      "outputs": [
        {
          "output_type": "execute_result",
          "data": {
            "text/plain": [
              "              price          1h         24h          7d    24h_volume  \\\n",
              "count  9.920000e+02  992.000000  992.000000  992.000000  9.920000e+02   \n",
              "mean   6.200521e+02    0.009682    0.024018    0.023558  2.884638e+08   \n",
              "min    1.484000e-09   -0.704000   -0.646000   -0.558000  0.000000e+00   \n",
              "25%    1.940547e-01    0.001000    0.001000   -0.041000  1.764198e+06   \n",
              "50%    1.095000e+00    0.006000    0.016000   -0.000500  8.328741e+06   \n",
              "75%    6.955000e+00    0.019000    0.035000    0.037000  3.947222e+07   \n",
              "max    4.121727e+04    0.095000    0.577000    4.608000  5.793497e+10   \n",
              "std    4.421998e+03    0.026917    0.058668    0.229781  2.771176e+09   \n",
              "\n",
              "            mkt_cap                           date  \n",
              "count  9.920000e+02                            992  \n",
              "mean   3.783951e+09  2022-03-16 11:58:32.903225856  \n",
              "min    6.577043e+07            2022-03-16 00:00:00  \n",
              "25%    1.158501e+08            2022-03-16 00:00:00  \n",
              "50%    2.131953e+08            2022-03-16 00:00:00  \n",
              "75%    5.972493e+08            2022-03-17 00:00:00  \n",
              "max    7.760774e+11            2022-03-17 00:00:00  \n",
              "std    3.818970e+10                            NaN  "
            ],
            "text/html": [
              "\n",
              "  <div id=\"df-b45c6022-5db5-4c63-9b61-37150c19052e\" class=\"colab-df-container\">\n",
              "    <div>\n",
              "<style scoped>\n",
              "    .dataframe tbody tr th:only-of-type {\n",
              "        vertical-align: middle;\n",
              "    }\n",
              "\n",
              "    .dataframe tbody tr th {\n",
              "        vertical-align: top;\n",
              "    }\n",
              "\n",
              "    .dataframe thead th {\n",
              "        text-align: right;\n",
              "    }\n",
              "</style>\n",
              "<table border=\"1\" class=\"dataframe\">\n",
              "  <thead>\n",
              "    <tr style=\"text-align: right;\">\n",
              "      <th></th>\n",
              "      <th>price</th>\n",
              "      <th>1h</th>\n",
              "      <th>24h</th>\n",
              "      <th>7d</th>\n",
              "      <th>24h_volume</th>\n",
              "      <th>mkt_cap</th>\n",
              "      <th>date</th>\n",
              "    </tr>\n",
              "  </thead>\n",
              "  <tbody>\n",
              "    <tr>\n",
              "      <th>count</th>\n",
              "      <td>9.920000e+02</td>\n",
              "      <td>992.000000</td>\n",
              "      <td>992.000000</td>\n",
              "      <td>992.000000</td>\n",
              "      <td>9.920000e+02</td>\n",
              "      <td>9.920000e+02</td>\n",
              "      <td>992</td>\n",
              "    </tr>\n",
              "    <tr>\n",
              "      <th>mean</th>\n",
              "      <td>6.200521e+02</td>\n",
              "      <td>0.009682</td>\n",
              "      <td>0.024018</td>\n",
              "      <td>0.023558</td>\n",
              "      <td>2.884638e+08</td>\n",
              "      <td>3.783951e+09</td>\n",
              "      <td>2022-03-16 11:58:32.903225856</td>\n",
              "    </tr>\n",
              "    <tr>\n",
              "      <th>min</th>\n",
              "      <td>1.484000e-09</td>\n",
              "      <td>-0.704000</td>\n",
              "      <td>-0.646000</td>\n",
              "      <td>-0.558000</td>\n",
              "      <td>0.000000e+00</td>\n",
              "      <td>6.577043e+07</td>\n",
              "      <td>2022-03-16 00:00:00</td>\n",
              "    </tr>\n",
              "    <tr>\n",
              "      <th>25%</th>\n",
              "      <td>1.940547e-01</td>\n",
              "      <td>0.001000</td>\n",
              "      <td>0.001000</td>\n",
              "      <td>-0.041000</td>\n",
              "      <td>1.764198e+06</td>\n",
              "      <td>1.158501e+08</td>\n",
              "      <td>2022-03-16 00:00:00</td>\n",
              "    </tr>\n",
              "    <tr>\n",
              "      <th>50%</th>\n",
              "      <td>1.095000e+00</td>\n",
              "      <td>0.006000</td>\n",
              "      <td>0.016000</td>\n",
              "      <td>-0.000500</td>\n",
              "      <td>8.328741e+06</td>\n",
              "      <td>2.131953e+08</td>\n",
              "      <td>2022-03-16 00:00:00</td>\n",
              "    </tr>\n",
              "    <tr>\n",
              "      <th>75%</th>\n",
              "      <td>6.955000e+00</td>\n",
              "      <td>0.019000</td>\n",
              "      <td>0.035000</td>\n",
              "      <td>0.037000</td>\n",
              "      <td>3.947222e+07</td>\n",
              "      <td>5.972493e+08</td>\n",
              "      <td>2022-03-17 00:00:00</td>\n",
              "    </tr>\n",
              "    <tr>\n",
              "      <th>max</th>\n",
              "      <td>4.121727e+04</td>\n",
              "      <td>0.095000</td>\n",
              "      <td>0.577000</td>\n",
              "      <td>4.608000</td>\n",
              "      <td>5.793497e+10</td>\n",
              "      <td>7.760774e+11</td>\n",
              "      <td>2022-03-17 00:00:00</td>\n",
              "    </tr>\n",
              "    <tr>\n",
              "      <th>std</th>\n",
              "      <td>4.421998e+03</td>\n",
              "      <td>0.026917</td>\n",
              "      <td>0.058668</td>\n",
              "      <td>0.229781</td>\n",
              "      <td>2.771176e+09</td>\n",
              "      <td>3.818970e+10</td>\n",
              "      <td>NaN</td>\n",
              "    </tr>\n",
              "  </tbody>\n",
              "</table>\n",
              "</div>\n",
              "    <div class=\"colab-df-buttons\">\n",
              "\n",
              "  <div class=\"colab-df-container\">\n",
              "    <button class=\"colab-df-convert\" onclick=\"convertToInteractive('df-b45c6022-5db5-4c63-9b61-37150c19052e')\"\n",
              "            title=\"Convert this dataframe to an interactive table.\"\n",
              "            style=\"display:none;\">\n",
              "\n",
              "  <svg xmlns=\"http://www.w3.org/2000/svg\" height=\"24px\" viewBox=\"0 -960 960 960\">\n",
              "    <path d=\"M120-120v-720h720v720H120Zm60-500h600v-160H180v160Zm220 220h160v-160H400v160Zm0 220h160v-160H400v160ZM180-400h160v-160H180v160Zm440 0h160v-160H620v160ZM180-180h160v-160H180v160Zm440 0h160v-160H620v160Z\"/>\n",
              "  </svg>\n",
              "    </button>\n",
              "\n",
              "  <style>\n",
              "    .colab-df-container {\n",
              "      display:flex;\n",
              "      gap: 12px;\n",
              "    }\n",
              "\n",
              "    .colab-df-convert {\n",
              "      background-color: #E8F0FE;\n",
              "      border: none;\n",
              "      border-radius: 50%;\n",
              "      cursor: pointer;\n",
              "      display: none;\n",
              "      fill: #1967D2;\n",
              "      height: 32px;\n",
              "      padding: 0 0 0 0;\n",
              "      width: 32px;\n",
              "    }\n",
              "\n",
              "    .colab-df-convert:hover {\n",
              "      background-color: #E2EBFA;\n",
              "      box-shadow: 0px 1px 2px rgba(60, 64, 67, 0.3), 0px 1px 3px 1px rgba(60, 64, 67, 0.15);\n",
              "      fill: #174EA6;\n",
              "    }\n",
              "\n",
              "    .colab-df-buttons div {\n",
              "      margin-bottom: 4px;\n",
              "    }\n",
              "\n",
              "    [theme=dark] .colab-df-convert {\n",
              "      background-color: #3B4455;\n",
              "      fill: #D2E3FC;\n",
              "    }\n",
              "\n",
              "    [theme=dark] .colab-df-convert:hover {\n",
              "      background-color: #434B5C;\n",
              "      box-shadow: 0px 1px 3px 1px rgba(0, 0, 0, 0.15);\n",
              "      filter: drop-shadow(0px 1px 2px rgba(0, 0, 0, 0.3));\n",
              "      fill: #FFFFFF;\n",
              "    }\n",
              "  </style>\n",
              "\n",
              "    <script>\n",
              "      const buttonEl =\n",
              "        document.querySelector('#df-b45c6022-5db5-4c63-9b61-37150c19052e button.colab-df-convert');\n",
              "      buttonEl.style.display =\n",
              "        google.colab.kernel.accessAllowed ? 'block' : 'none';\n",
              "\n",
              "      async function convertToInteractive(key) {\n",
              "        const element = document.querySelector('#df-b45c6022-5db5-4c63-9b61-37150c19052e');\n",
              "        const dataTable =\n",
              "          await google.colab.kernel.invokeFunction('convertToInteractive',\n",
              "                                                    [key], {});\n",
              "        if (!dataTable) return;\n",
              "\n",
              "        const docLinkHtml = 'Like what you see? Visit the ' +\n",
              "          '<a target=\"_blank\" href=https://colab.research.google.com/notebooks/data_table.ipynb>data table notebook</a>'\n",
              "          + ' to learn more about interactive tables.';\n",
              "        element.innerHTML = '';\n",
              "        dataTable['output_type'] = 'display_data';\n",
              "        await google.colab.output.renderOutput(dataTable, element);\n",
              "        const docLink = document.createElement('div');\n",
              "        docLink.innerHTML = docLinkHtml;\n",
              "        element.appendChild(docLink);\n",
              "      }\n",
              "    </script>\n",
              "  </div>\n",
              "\n",
              "\n",
              "    <div id=\"df-d710e28c-198d-4da5-85e7-492b3d040f0f\">\n",
              "      <button class=\"colab-df-quickchart\" onclick=\"quickchart('df-d710e28c-198d-4da5-85e7-492b3d040f0f')\"\n",
              "                title=\"Suggest charts\"\n",
              "                style=\"display:none;\">\n",
              "\n",
              "<svg xmlns=\"http://www.w3.org/2000/svg\" height=\"24px\"viewBox=\"0 0 24 24\"\n",
              "     width=\"24px\">\n",
              "    <g>\n",
              "        <path d=\"M19 3H5c-1.1 0-2 .9-2 2v14c0 1.1.9 2 2 2h14c1.1 0 2-.9 2-2V5c0-1.1-.9-2-2-2zM9 17H7v-7h2v7zm4 0h-2V7h2v10zm4 0h-2v-4h2v4z\"/>\n",
              "    </g>\n",
              "</svg>\n",
              "      </button>\n",
              "\n",
              "<style>\n",
              "  .colab-df-quickchart {\n",
              "      --bg-color: #E8F0FE;\n",
              "      --fill-color: #1967D2;\n",
              "      --hover-bg-color: #E2EBFA;\n",
              "      --hover-fill-color: #174EA6;\n",
              "      --disabled-fill-color: #AAA;\n",
              "      --disabled-bg-color: #DDD;\n",
              "  }\n",
              "\n",
              "  [theme=dark] .colab-df-quickchart {\n",
              "      --bg-color: #3B4455;\n",
              "      --fill-color: #D2E3FC;\n",
              "      --hover-bg-color: #434B5C;\n",
              "      --hover-fill-color: #FFFFFF;\n",
              "      --disabled-bg-color: #3B4455;\n",
              "      --disabled-fill-color: #666;\n",
              "  }\n",
              "\n",
              "  .colab-df-quickchart {\n",
              "    background-color: var(--bg-color);\n",
              "    border: none;\n",
              "    border-radius: 50%;\n",
              "    cursor: pointer;\n",
              "    display: none;\n",
              "    fill: var(--fill-color);\n",
              "    height: 32px;\n",
              "    padding: 0;\n",
              "    width: 32px;\n",
              "  }\n",
              "\n",
              "  .colab-df-quickchart:hover {\n",
              "    background-color: var(--hover-bg-color);\n",
              "    box-shadow: 0 1px 2px rgba(60, 64, 67, 0.3), 0 1px 3px 1px rgba(60, 64, 67, 0.15);\n",
              "    fill: var(--button-hover-fill-color);\n",
              "  }\n",
              "\n",
              "  .colab-df-quickchart-complete:disabled,\n",
              "  .colab-df-quickchart-complete:disabled:hover {\n",
              "    background-color: var(--disabled-bg-color);\n",
              "    fill: var(--disabled-fill-color);\n",
              "    box-shadow: none;\n",
              "  }\n",
              "\n",
              "  .colab-df-spinner {\n",
              "    border: 2px solid var(--fill-color);\n",
              "    border-color: transparent;\n",
              "    border-bottom-color: var(--fill-color);\n",
              "    animation:\n",
              "      spin 1s steps(1) infinite;\n",
              "  }\n",
              "\n",
              "  @keyframes spin {\n",
              "    0% {\n",
              "      border-color: transparent;\n",
              "      border-bottom-color: var(--fill-color);\n",
              "      border-left-color: var(--fill-color);\n",
              "    }\n",
              "    20% {\n",
              "      border-color: transparent;\n",
              "      border-left-color: var(--fill-color);\n",
              "      border-top-color: var(--fill-color);\n",
              "    }\n",
              "    30% {\n",
              "      border-color: transparent;\n",
              "      border-left-color: var(--fill-color);\n",
              "      border-top-color: var(--fill-color);\n",
              "      border-right-color: var(--fill-color);\n",
              "    }\n",
              "    40% {\n",
              "      border-color: transparent;\n",
              "      border-right-color: var(--fill-color);\n",
              "      border-top-color: var(--fill-color);\n",
              "    }\n",
              "    60% {\n",
              "      border-color: transparent;\n",
              "      border-right-color: var(--fill-color);\n",
              "    }\n",
              "    80% {\n",
              "      border-color: transparent;\n",
              "      border-right-color: var(--fill-color);\n",
              "      border-bottom-color: var(--fill-color);\n",
              "    }\n",
              "    90% {\n",
              "      border-color: transparent;\n",
              "      border-bottom-color: var(--fill-color);\n",
              "    }\n",
              "  }\n",
              "</style>\n",
              "\n",
              "      <script>\n",
              "        async function quickchart(key) {\n",
              "          const quickchartButtonEl =\n",
              "            document.querySelector('#' + key + ' button');\n",
              "          quickchartButtonEl.disabled = true;  // To prevent multiple clicks.\n",
              "          quickchartButtonEl.classList.add('colab-df-spinner');\n",
              "          try {\n",
              "            const charts = await google.colab.kernel.invokeFunction(\n",
              "                'suggestCharts', [key], {});\n",
              "          } catch (error) {\n",
              "            console.error('Error during call to suggestCharts:', error);\n",
              "          }\n",
              "          quickchartButtonEl.classList.remove('colab-df-spinner');\n",
              "          quickchartButtonEl.classList.add('colab-df-quickchart-complete');\n",
              "        }\n",
              "        (() => {\n",
              "          let quickchartButtonEl =\n",
              "            document.querySelector('#df-d710e28c-198d-4da5-85e7-492b3d040f0f button');\n",
              "          quickchartButtonEl.style.display =\n",
              "            google.colab.kernel.accessAllowed ? 'block' : 'none';\n",
              "        })();\n",
              "      </script>\n",
              "    </div>\n",
              "\n",
              "    </div>\n",
              "  </div>\n"
            ],
            "application/vnd.google.colaboratory.intrinsic+json": {
              "type": "dataframe",
              "summary": "{\n  \"name\": \"df\",\n  \"rows\": 8,\n  \"fields\": [\n    {\n      \"column\": \"price\",\n      \"properties\": {\n        \"dtype\": \"number\",\n        \"std\": 14345.744466496699,\n        \"min\": 1.484e-09,\n        \"max\": 41217.27,\n        \"num_unique_values\": 8,\n        \"samples\": [\n          620.0521274817124,\n          6.955,\n          992.0\n        ],\n        \"semantic_type\": \"\",\n        \"description\": \"\"\n      }\n    },\n    {\n      \"column\": \"1h\",\n      \"properties\": {\n        \"dtype\": \"number\",\n        \"std\": 350.7526551690236,\n        \"min\": -0.7040000000000001,\n        \"max\": 992.0,\n        \"num_unique_values\": 8,\n        \"samples\": [\n          0.00968245967741935,\n          0.019,\n          992.0\n        ],\n        \"semantic_type\": \"\",\n        \"description\": \"\"\n      }\n    },\n    {\n      \"column\": \"24h\",\n      \"properties\": {\n        \"dtype\": \"number\",\n        \"std\": 350.72179961642416,\n        \"min\": -0.6459999999999999,\n        \"max\": 992.0,\n        \"num_unique_values\": 8,\n        \"samples\": [\n          0.024018145161290316,\n          0.035,\n          992.0\n        ],\n        \"semantic_type\": \"\",\n        \"description\": \"\"\n      }\n    },\n    {\n      \"column\": \"7d\",\n      \"properties\": {\n        \"dtype\": \"number\",\n        \"std\": 350.5117033253418,\n        \"min\": -0.5579999999999999,\n        \"max\": 992.0,\n        \"num_unique_values\": 8,\n        \"samples\": [\n          0.02355846774193549,\n          0.037,\n          992.0\n        ],\n        \"semantic_type\": \"\",\n        \"description\": \"\"\n      }\n    },\n    {\n      \"column\": \"24h_volume\",\n      \"properties\": {\n        \"dtype\": \"number\",\n        \"std\": 20348485318.281116,\n        \"min\": 0.0,\n        \"max\": 57934969077.0,\n        \"num_unique_values\": 8,\n        \"samples\": [\n          288463845.5999496,\n          39472221.0,\n          992.0\n        ],\n        \"semantic_type\": \"\",\n        \"description\": \"\"\n      }\n    },\n    {\n      \"column\": \"mkt_cap\",\n      \"properties\": {\n        \"dtype\": \"number\",\n        \"std\": 272531888577.65088,\n        \"min\": 992.0,\n        \"max\": 776077432316.0,\n        \"num_unique_values\": 8,\n        \"samples\": [\n          3783950795.768145,\n          597249311.25,\n          992.0\n        ],\n        \"semantic_type\": \"\",\n        \"description\": \"\"\n      }\n    },\n    {\n      \"column\": \"date\",\n      \"properties\": {\n        \"dtype\": \"date\",\n        \"min\": \"1970-01-01 00:00:00.000000992\",\n        \"max\": \"2022-03-17 00:00:00\",\n        \"num_unique_values\": 4,\n        \"samples\": [\n          \"2022-03-16 11:58:32.903225856\",\n          \"2022-03-17 00:00:00\",\n          \"992\"\n        ],\n        \"semantic_type\": \"\",\n        \"description\": \"\"\n      }\n    }\n  ]\n}"
            }
          },
          "metadata": {},
          "execution_count": 13
        }
      ]
    },
    {
      "cell_type": "markdown",
      "source": [
        "**What I observed from the summary🧠:**\n",
        "\n",
        "1.Some coins are really cheap, and some are super expensive (like over $40,000).\n",
        "\n",
        "2.The amount of money traded (volume) and total value (market cap) is very different for each coin.\n",
        "\n",
        "3.Some coins went up and some went down in the last hour, day, and week.\n",
        "\n",
        "4.The data is only from two days: March 16 and 17, 2022.\n",
        "\n"
      ],
      "metadata": {
        "id": "MM8-bCkxrH_4"
      }
    },
    {
      "cell_type": "markdown",
      "source": [
        "###**✅Correlation Heatmap:**"
      ],
      "metadata": {
        "id": "gLQa16mzrbYn"
      }
    },
    {
      "cell_type": "markdown",
      "source": [
        "**This helps us to understand which numbers are connected (like: does price go up when market cap goes up?).**"
      ],
      "metadata": {
        "id": "HqRdp5U5ruya"
      }
    },
    {
      "cell_type": "code",
      "source": [
        "numeric_df = df.select_dtypes(include=['float64', 'int64'])\n",
        "\n",
        "plt.figure(figsize=(10, 6))\n",
        "sns.heatmap(numeric_df.corr(), annot=True, cmap='coolwarm')\n",
        "plt.title(\"Correlation Between Numeric Features\")\n",
        "plt.show()"
      ],
      "metadata": {
        "colab": {
          "base_uri": "https://localhost:8080/",
          "height": 545
        },
        "id": "SFUsHpfKr1R5",
        "outputId": "53a83611-5356-4207-f222-65e74a065e90"
      },
      "execution_count": 14,
      "outputs": [
        {
          "output_type": "display_data",
          "data": {
            "text/plain": [
              "<Figure size 1000x600 with 2 Axes>"
            ],
            "image/png": "[encoded data removed]"
          },
          "metadata": {}
        }
      ]
    },
    {
      "cell_type": "markdown",
      "source": [
        "**What I noticed from the heatmap:**\n",
        "\n",
        "* Price and market cap are very strongly connected — when price goes up, market cap also goes up.\n",
        "\n",
        "* 24h trading volume is also connected with market cap.\n",
        "\n",
        "* 1h, 24h, and 7d changes are not strongly connected to price or volume.\n",
        "\n",
        "* Some features are closely related, and some are not much related.\n",
        "\n",
        "\n",
        "\n"
      ],
      "metadata": {
        "id": "1Lr0qlDgsWSn"
      }
    },
    {
      "cell_type": "markdown",
      "source": [
        "**Visualizing Price Over Time (Bitcoin example):**"
      ],
      "metadata": {
        "id": "ik96Zb7z_usD"
      }
    },
    {
      "cell_type": "code",
      "source": [
        "btc_df = df[df['coin'] == 'Bitcoin']\n",
        "\n",
        "plt.figure(figsize=(10, 5))\n",
        "plt.plot(btc_df['date'], btc_df['price'], marker='o')\n",
        "plt.title(\"Bitcoin Price Over Time\")\n",
        "plt.xlabel(\"Date\")\n",
        "plt.ylabel(\"Price (USD)\")\n",
        "plt.grid(True)\n",
        "plt.show()\n"
      ],
      "metadata": {
        "colab": {
          "base_uri": "https://localhost:8080/",
          "height": 487
        },
        "id": "4bx-Z609_4iP",
        "outputId": "44dbd00e-367d-4ebe-9f17-63e16ec00c3c"
      },
      "execution_count": 15,
      "outputs": [
        {
          "output_type": "display_data",
          "data": {
            "text/plain": [
              "<Figure size 1000x500 with 1 Axes>"
            ],
            "image/png": "[encoded data removed]"
          },
          "metadata": {}
        }
      ]
    },
    {
      "cell_type": "markdown",
      "source": [
        "**What i Noticed from this Graph:**\n",
        "\n",
        "* Bitcoin’s price movement over two days looks slightly up/down.\n",
        "\n",
        "* With more days of data, we can see better price trends.\n",
        "\n",
        "* Visualizing price vs time helps us detect sudden changes easily."
      ],
      "metadata": {
        "id": "_2-pYxga_9ec"
      }
    },
    {
      "cell_type": "markdown",
      "source": [
        "###**Feature Engineering:**"
      ],
      "metadata": {
        "id": "b-ogzyzBA0Uv"
      }
    },
    {
      "cell_type": "markdown",
      "source": [
        "**What is Feature Engineering?**\n",
        "\n",
        "Ans:It means creating new columns (features) from old columns and New features help the model learn better and predict better."
      ],
      "metadata": {
        "id": "-m11NYqOA6-y"
      }
    },
    {
      "cell_type": "markdown",
      "source": [
        "**🛠 Creating Moving Averages:**"
      ],
      "metadata": {
        "id": "jYndoviVBIcU"
      }
    },
    {
      "cell_type": "code",
      "source": [
        "# Sort by date first (important for moving average)\n",
        "df = df.sort_values('date')\n",
        "\n",
        "# Create a 2-day moving average of price\n",
        "df['price_ma_2'] = df['price'].rolling(window=2).mean()\n",
        "\n",
        "# Create a 2-day moving average of market cap\n",
        "df['mkt_cap_ma_2'] = df['mkt_cap'].rolling(window=2).mean()\n",
        "\n",
        "print(df[['price', 'price_ma_2', 'mkt_cap', 'mkt_cap_ma_2']].head())\n"
      ],
      "metadata": {
        "colab": {
          "base_uri": "https://localhost:8080/"
        },
        "id": "eHk1J66qBgej",
        "outputId": "70278de1-2749-45a9-e791-9fe0521c2100"
      },
      "execution_count": 16,
      "outputs": [
        {
          "output_type": "stream",
          "name": "stdout",
          "text": [
            "            price   price_ma_2       mkt_cap  mkt_cap_ma_2\n",
            "0    4.085946e+04          NaN  7.709915e+11           NaN\n",
            "340  7.960000e+00  20433.71000  1.302007e+08  3.855608e+11\n",
            "339  2.949200e-01      4.12746  1.327759e+08  1.314883e+08\n",
            "338  3.051000e-09      0.14746  1.329136e+08  1.328448e+08\n",
            "337  1.010000e+00      0.50500  1.329540e+08  1.329338e+08\n"
          ]
        }
      ]
    },
    {
      "cell_type": "markdown",
      "source": [
        "**We have created moving averages to make price and market cap trends smoother and easier for the model to understand.**"
      ],
      "metadata": {
        "id": "HZlhGkImB9C_"
      }
    },
    {
      "cell_type": "markdown",
      "source": [
        "**🛠 Creating Volatility Feature:**"
      ],
      "metadata": {
        "id": "8NkRjUNZB_si"
      }
    },
    {
      "cell_type": "code",
      "source": [
        "# Calculate simple volatility as absolute change between 24h and 1h returns\n",
        "df['volatility'] = (df['24h'] - df['1h']).abs()\n",
        "\n",
        "print(df[['1h', '24h', 'volatility']].head())"
      ],
      "metadata": {
        "colab": {
          "base_uri": "https://localhost:8080/"
        },
        "id": "r3BLTxUXCYnG",
        "outputId": "839b395d-f467-48d0-a5ae-1b9c0e532c58"
      },
      "execution_count": 17,
      "outputs": [
        {
          "output_type": "stream",
          "name": "stdout",
          "text": [
            "        1h    24h  volatility\n",
            "0    0.022  0.030       0.008\n",
            "340  0.017  0.008       0.009\n",
            "339  0.023  0.010       0.013\n",
            "338  0.012 -0.005       0.017\n",
            "337  0.001  0.000       0.001\n"
          ]
        }
      ]
    },
    {
      "cell_type": "markdown",
      "source": [
        "**Observation from Volatility:**\n",
        "\n",
        "I have created a new feature called volatility, which measures how much the price changes between 1-hour and 24-hour returns.\n",
        "It shows how stable or risky the coin is. A higher volatility means bigger price movements and more risk."
      ],
      "metadata": {
        "id": "ByTnW4P1Cq5r"
      }
    },
    {
      "cell_type": "markdown",
      "source": [
        "**🛠 Creating Liquidity Ratio:**"
      ],
      "metadata": {
        "id": "4IpvnJKsC6EP"
      }
    },
    {
      "cell_type": "code",
      "source": [
        "# Create liquidity ratio\n",
        "df['liquidity_ratio'] = df['24h_volume'] / df['mkt_cap']\n",
        "\n",
        "print(df[['24h_volume', 'mkt_cap', 'liquidity_ratio']].head())"
      ],
      "metadata": {
        "colab": {
          "base_uri": "https://localhost:8080/"
        },
        "id": "wJG2t6daC-rf",
        "outputId": "af9d7f61-2a18-414b-98eb-cad4c3780233"
      },
      "execution_count": 18,
      "outputs": [
        {
          "output_type": "stream",
          "name": "stdout",
          "text": [
            "       24h_volume       mkt_cap  liquidity_ratio\n",
            "0    3.539076e+10  7.709915e+11         0.045903\n",
            "340  1.069360e+06  1.302007e+08         0.008213\n",
            "339  3.041720e+03  1.327759e+08         0.000023\n",
            "338  1.894020e+05  1.329136e+08         0.001425\n",
            "337  1.793090e+05  1.329540e+08         0.001349\n"
          ]
        }
      ]
    },
    {
      "cell_type": "markdown",
      "source": [
        "**Observation from Liquidity Ratio:**\n",
        "\n",
        "I have created a new feature called liquidity ratio, which shows how much trading is happening compared to the total size of the coin.\n",
        "A higher liquidity ratio means the coin is actively traded and easier to buy or sell."
      ],
      "metadata": {
        "id": "vyqex_KZDb2e"
      }
    },
    {
      "cell_type": "markdown",
      "source": [
        "###**Model Selection:**"
      ],
      "metadata": {
        "id": "G-S66l2IFRM_"
      }
    },
    {
      "cell_type": "markdown",
      "source": [
        "**Choosing the Model:**\n",
        "\n",
        "We want to predict a number (liquidity ratio), not a category like \"yes\" or \"no\".\n",
        "When we predict numbers, we should use a regression model.\n",
        "\n",
        "The easiest and most basic model for this is Linear Regression.\n",
        "It draws a straight line that best fits the data points.\n",
        "\n",
        "I will first use Linear Regression to keep things simple.\n",
        "Later, if we want even better results, we can try stronger models like Random Forest or XGBoost, but for now, Linear Regression is the perfect one.\n",
        "\n"
      ],
      "metadata": {
        "id": "6vjJgiGjFaM-"
      }
    },
    {
      "cell_type": "markdown",
      "source": [
        "**Preparing Data Model for Training:**"
      ],
      "metadata": {
        "id": "omRbxx4VFugc"
      }
    },
    {
      "cell_type": "code",
      "source": [
        "# importing the tool to split data\n",
        "from sklearn.model_selection import train_test_split\n",
        "\n",
        "# Choosing input features (X) and target output (y)\n",
        "X = df[['price', '24h_volume', 'mkt_cap', 'volatility']]\n",
        "y = df['liquidity_ratio']\n",
        "\n",
        "# Spliting into 80% training and 20% testing\n",
        "X_train, X_test, y_train, y_test = train_test_split(X, y, test_size=0.2, random_state=42)\n",
        "\n",
        "print(\"Training set size:\", X_train.shape)\n",
        "print(\"Testing set size:\", X_test.shape)"
      ],
      "metadata": {
        "colab": {
          "base_uri": "https://localhost:8080/"
        },
        "id": "iveB4d7WGeii",
        "outputId": "c04f6b38-ae08-4ff7-c713-170621c26ea6"
      },
      "execution_count": 19,
      "outputs": [
        {
          "output_type": "stream",
          "name": "stdout",
          "text": [
            "Training set size: (793, 4)\n",
            "Testing set size: (199, 4)\n"
          ]
        }
      ]
    },
    {
      "cell_type": "markdown",
      "source": [
        "**Training the model:**"
      ],
      "metadata": {
        "id": "rmUeLYO4G0Si"
      }
    },
    {
      "cell_type": "code",
      "source": [
        "# Import Linear Regression model\n",
        "from sklearn.linear_model import LinearRegression\n",
        "\n",
        "# Create the model\n",
        "model = LinearRegression()\n",
        "\n",
        "# Train the model using the training data\n",
        "model.fit(X_train, y_train)\n",
        "\n",
        "print(\"Model training completed!\")"
      ],
      "metadata": {
        "colab": {
          "base_uri": "https://localhost:8080/"
        },
        "id": "swGVL34wG42z",
        "outputId": "01643b2f-f8e8-4e74-e6a7-11e47adadc97"
      },
      "execution_count": 20,
      "outputs": [
        {
          "output_type": "stream",
          "name": "stdout",
          "text": [
            "Model training completed!\n"
          ]
        }
      ]
    },
    {
      "cell_type": "markdown",
      "source": [
        "**Model Evaluation:**"
      ],
      "metadata": {
        "id": "RqOmabv6HZCj"
      }
    },
    {
      "cell_type": "code",
      "source": [
        "# Import evaluation metrics\n",
        "from sklearn.metrics import mean_squared_error, mean_absolute_error, r2_score\n",
        "import numpy as np\n",
        "\n",
        "# Predict on the test set\n",
        "y_pred = model.predict(X_test)\n",
        "\n",
        "# Calculate evaluation metrics\n",
        "rmse = np.sqrt(mean_squared_error(y_test, y_pred))\n",
        "mae = mean_absolute_error(y_test, y_pred)\n",
        "r2 = r2_score(y_test, y_pred)\n",
        "\n",
        "print(f\"Root Mean Squared Error (RMSE): {rmse}\")\n",
        "print(f\"Mean Absolute Error (MAE): {mae}\")\n",
        "print(f\"R² Score: {r2}\")"
      ],
      "metadata": {
        "colab": {
          "base_uri": "https://localhost:8080/"
        },
        "id": "nnCkXCGsHdC5",
        "outputId": "5bd9f985-b68f-4e89-f2f2-1eb6e13edc8e"
      },
      "execution_count": 21,
      "outputs": [
        {
          "output_type": "stream",
          "name": "stdout",
          "text": [
            "Root Mean Squared Error (RMSE): 0.34370980165574133\n",
            "Mean Absolute Error (MAE): 0.11763151643432349\n",
            "R² Score: -0.055077186022793656\n"
          ]
        }
      ]
    },
    {
      "cell_type": "markdown",
      "source": [
        "Observation:\n",
        "\n",
        "* Model is working but not predicting very well.\n",
        "\n",
        "* Errors are a bit high.\n",
        "\n",
        "* R² Score is negative, meaning model is not learning properly.\n",
        "\n",
        "* We need to improve it by making the model better.\n",
        "\n"
      ],
      "metadata": {
        "id": "kZ_5CZZXIRRG"
      }
    },
    {
      "cell_type": "markdown",
      "source": [
        "###**Hyperparameter Tuning**"
      ],
      "metadata": {
        "id": "MXBZS8RoIX0f"
      }
    },
    {
      "cell_type": "code",
      "source": [
        "from sklearn.model_selection import GridSearchCV\n",
        "\n",
        "# Define the model\n",
        "from sklearn.ensemble import RandomForestRegressor\n",
        "model = RandomForestRegressor(random_state=42)\n",
        "\n",
        "# Define parameter grid (different settings we want to try)\n",
        "param_grid = {\n",
        "    'n_estimators': [50, 100, 150],\n",
        "    'max_depth': [5, 10, 15]\n",
        "}\n",
        "\n",
        "# Set up GridSearch\n",
        "grid_search = GridSearchCV(estimator=model, param_grid=param_grid,\n",
        "                           cv=3, n_jobs=-1, scoring='r2')\n",
        "\n",
        "# Fit to training data\n",
        "grid_search.fit(X_train, y_train)\n",
        "\n",
        "# Best parameters\n",
        "print(\"Best Parameters Found:\", grid_search.best_params_)"
      ],
      "metadata": {
        "colab": {
          "base_uri": "https://localhost:8080/"
        },
        "id": "fIuWU2HMIf0s",
        "outputId": "5402a9ed-c6cd-45df-e66e-d6295d69ea7f"
      },
      "execution_count": 22,
      "outputs": [
        {
          "output_type": "stream",
          "name": "stdout",
          "text": [
            "Best Parameters Found: {'max_depth': 5, 'n_estimators': 150}\n"
          ]
        }
      ]
    },
    {
      "cell_type": "markdown",
      "source": [
        "**Training model again with best parameters:**"
      ],
      "metadata": {
        "id": "46R5kgSCIyc4"
      }
    },
    {
      "cell_type": "code",
      "source": [
        "# Train the model again using the best parameters\n",
        "best_model = RandomForestRegressor(max_depth=5, n_estimators=150, random_state=42)\n",
        "\n",
        "# Fit on training data\n",
        "best_model.fit(X_train, y_train)\n",
        "\n",
        "# Predict again\n",
        "y_pred_best = best_model.predict(X_test)\n",
        "\n",
        "# Evaluate again\n",
        "rmse_best = np.sqrt(mean_squared_error(y_test, y_pred_best))\n",
        "mae_best = mean_absolute_error(y_test, y_pred_best)\n",
        "r2_best = r2_score(y_test, y_pred_best)\n",
        "\n",
        "print(f\"New RMSE: {rmse_best}\")\n",
        "print(f\"New MAE: {mae_best}\")\n",
        "print(f\"New R² Score: {r2_best}\")"
      ],
      "metadata": {
        "colab": {
          "base_uri": "https://localhost:8080/"
        },
        "id": "izAPtYg-I13g",
        "outputId": "664d486e-1f83-4ab8-822e-dceec212abb2"
      },
      "execution_count": 23,
      "outputs": [
        {
          "output_type": "stream",
          "name": "stdout",
          "text": [
            "New RMSE: 0.11686800018856748\n",
            "New MAE: 0.03412938555724248\n",
            "New R² Score: 0.8780191590396578\n"
          ]
        }
      ]
    },
    {
      "cell_type": "markdown",
      "source": [
        "**Observation:**\n",
        "After tuning the model, the errors became much smaller and the accuracy became much better. Now, the model can predict liquidity quite correctly."
      ],
      "metadata": {
        "id": "Qhw2p7nOJLEd"
      }
    },
    {
      "cell_type": "markdown",
      "source": [
        "**Testing the model on unseen (test) data and watching some predictions:**"
      ],
      "metadata": {
        "id": "2x3k4jE2JV0X"
      }
    },
    {
      "cell_type": "code",
      "source": [
        "# Predict on test data\n",
        "y_pred_test = best_model.predict(X_test)\n",
        "\n",
        "# Compare some real vs predicted values\n",
        "comparison = pd.DataFrame({'Actual Liquidity': y_test, 'Predicted Liquidity': y_pred_test})\n",
        "print(comparison.head(10))"
      ],
      "metadata": {
        "colab": {
          "base_uri": "https://localhost:8080/"
        },
        "id": "85G88d2mJi8U",
        "outputId": "1e7b548d-551a-4009-a8eb-5b85237d2823"
      },
      "execution_count": 24,
      "outputs": [
        {
          "output_type": "stream",
          "name": "stdout",
          "text": [
            "     Actual Liquidity  Predicted Liquidity\n",
            "376          0.120092             0.849204\n",
            "8            0.036105             0.131864\n",
            "834          0.064324             0.075432\n",
            "62           0.153632             0.116592\n",
            "252          0.010830             0.012223\n",
            "864          0.569074             0.570640\n",
            "94           0.007854             0.025044\n",
            "295          0.007353             0.007169\n",
            "343          0.003577             0.003889\n",
            "839          0.000058             0.003306\n"
          ]
        }
      ]
    },
    {
      "cell_type": "markdown",
      "source": [
        "**Observation:**\n",
        "\n",
        "The model's predicted liquidity values are quite close to the actual values for many coins.\n",
        "There are some small differences, but overall the model is doing a good job after tuning.\n",
        "Especially for bigger liquidity values like 0.569074, the prediction (0.570640) is very accurate."
      ],
      "metadata": {
        "id": "gEsxcfUIJww_"
      }
    },
    {
      "cell_type": "markdown",
      "source": [
        "**Saving the trained model:**"
      ],
      "metadata": {
        "id": "w7PfsesWKLhS"
      }
    },
    {
      "cell_type": "code",
      "source": [
        "import joblib\n",
        "\n",
        "# Save the model to a file\n",
        "joblib.dump(best_model, 'liquidity_prediction_model.pkl')\n",
        "print(\"Model saved successfully.\")"
      ],
      "metadata": {
        "colab": {
          "base_uri": "https://localhost:8080/"
        },
        "id": "oqTzO-02KQVn",
        "outputId": "f91e45b0-8d27-4f6e-94d8-55b3f54926c3"
      },
      "execution_count": 25,
      "outputs": [
        {
          "output_type": "stream",
          "name": "stdout",
          "text": [
            "Model saved successfully.\n"
          ]
        }
      ]
    },
    {
      "cell_type": "markdown",
      "source": [
        "**Loading The model:**"
      ],
      "metadata": {
        "id": "Oz14r_vHKYMD"
      }
    },
    {
      "cell_type": "code",
      "source": [
        "# Load the model from the file\n",
        "loaded_model = joblib.load('liquidity_prediction_model.pkl')\n",
        "\n",
        "# Test loading by predicting again\n",
        "sample_pred = loaded_model.predict(X_test[:5])\n",
        "print(\"Sample Predictions:\", sample_pred)"
      ],
      "metadata": {
        "colab": {
          "base_uri": "https://localhost:8080/"
        },
        "id": "gpUPmdlcKazr",
        "outputId": "5bf397d5-2d15-4989-bb32-97d9add3609e"
      },
      "execution_count": 26,
      "outputs": [
        {
          "output_type": "stream",
          "name": "stdout",
          "text": [
            "Sample Predictions: [0.84920435 0.13186372 0.07543161 0.11659179 0.01222347]\n"
          ]
        }
      ]
    },
    {
      "cell_type": "markdown",
      "source": [
        "###**Conclusion:**"
      ],
      "metadata": {
        "id": "0X9qVpFbKkHX"
      }
    },
    {
      "cell_type": "markdown",
      "source": [
        "In this project, we worked on predicting cryptocurrency liquidity to better understand market stability. We started by cleaning and exploring the data, creating new features like moving averages and volatility to capture deeper insights. Then, we built a machine learning model (Random Forest Regressor) to predict liquidity. Initially, the model's performance was not very strong, but after hyperparameter tuning, the accuracy significantly improved, achieving an R² score of 0.87. The final model can now effectively predict how easily a cryptocurrency can be bought or sold in the market."
      ],
      "metadata": {
        "id": "2dzSAUASUuOd"
      }
    },
    {
      "cell_type": "code",
      "source": [
        "# Correlation Heatmap\n",
        "plt.figure(figsize=(10, 8))\n",
        "sns.heatmap(numeric_df.corr(), annot=True, cmap='coolwarm')\n",
        "plt.title(\"Correlation Between Numeric Features\")\n",
        "\n",
        "# Save the heatmap\n",
        "plt.savefig('correlation_heatmap.png')  # Saves as PNG\n",
        "plt.show()"
      ],
      "metadata": {
        "colab": {
          "base_uri": "https://localhost:8080/",
          "height": 699
        },
        "id": "eQ9vM84v41zM",
        "outputId": "0eb54944-dcd1-4b58-ff8c-226b166752e9"
      },
      "execution_count": 29,
      "outputs": [
        {
          "output_type": "display_data",
          "data": {
            "text/plain": [
              "<Figure size 1000x800 with 2 Axes>"
            ],
            "image/png": "[encoded data removed]"
          },
          "metadata": {}
        }
      ]
    },
    {
      "cell_type": "code",
      "source": [
        "# Plot Bitcoin price over time\n",
        "btc_df = df[df['coin'] == 'Bitcoin']\n",
        "\n",
        "plt.figure(figsize=(10, 5))\n",
        "plt.plot(btc_df['date'], btc_df['price'], marker='o')\n",
        "plt.title(\"Bitcoin Price Over Time\")\n",
        "plt.xlabel(\"Date\")\n",
        "plt.ylabel(\"Price (USD)\")\n",
        "plt.grid(True)\n",
        "\n",
        "# Save the plot\n",
        "plt.savefig('bitcoin_price_over_time.png')  # This saves it as a PNG file\n",
        "plt.show()"
      ],
      "metadata": {
        "colab": {
          "base_uri": "https://localhost:8080/",
          "height": 487
        },
        "id": "_TEbfWTf3-Jn",
        "outputId": "41f45a24-aeef-46bb-8bfa-74a36f0dbcea"
      },
      "execution_count": 28,
      "outputs": [
        {
          "output_type": "display_data",
          "data": {
            "text/plain": [
              "<Figure size 1000x500 with 1 Axes>"
            ],
            "image/png": "[encoded data removed]"
          },
          "metadata": {}
        }
      ]
    },
    {
      "cell_type": "code",
      "source": [
        "from google.colab import files\n",
        "files.download('bitcoin_price_over_time.png')"
      ],
      "metadata": {
        "colab": {
          "base_uri": "https://localhost:8080/",
          "height": 17
        },
        "id": "eM93IUUJ5sgi",
        "outputId": "f386f702-87bb-498c-b084-6f1ede453e76"
      },
      "execution_count": 30,
      "outputs": [
        {
          "output_type": "display_data",
          "data": {
            "text/plain": [
              "<IPython.core.display.Javascript object>"
            ],
            "application/javascript": [
              "\n",
              "    async function download(id, filename, size) {\n",
              "      if (!google.colab.kernel.accessAllowed) {\n",
              "        return;\n",
              "      }\n",
              "      const div = document.createElement('div');\n",
              "      const label = document.createElement('label');\n",
              "      label.textContent = `Downloading \"${filename}\": `;\n",
              "      div.appendChild(label);\n",
              "      const progress = document.createElement('progress');\n",
              "      progress.max = size;\n",
              "      div.appendChild(progress);\n",
              "      document.body.appendChild(div);\n",
              "\n",
              "      const buffers = [];\n",
              "      let downloaded = 0;\n",
              "\n",
              "      const channel = await google.colab.kernel.comms.open(id);\n",
              "      // Send a message to notify the kernel that we're ready.\n",
              "      channel.send({})\n",
              "\n",
              "      for await (const message of channel.messages) {\n",
              "        // Send a message to notify the kernel that we're ready.\n",
              "        channel.send({})\n",
              "        if (message.buffers) {\n",
              "          for (const buffer of message.buffers) {\n",
              "            buffers.push(buffer);\n",
              "            downloaded += buffer.byteLength;\n",
              "            progress.value = downloaded;\n",
              "          }\n",
              "        }\n",
              "      }\n",
              "      const blob = new Blob(buffers, {type: 'application/binary'});\n",
              "      const a = document.createElement('a');\n",
              "      a.href = window.URL.createObjectURL(blob);\n",
              "      a.download = filename;\n",
              "      div.appendChild(a);\n",
              "      a.click();\n",
              "      div.remove();\n",
              "    }\n",
              "  "
            ]
          },
          "metadata": {}
        },
        {
          "output_type": "display_data",
          "data": {
            "text/plain": [
              "<IPython.core.display.Javascript object>"
            ],
            "application/javascript": [
              "download(\"download_80ef9484-cec9-4e88-98f5-7f125f135839\", \"bitcoin_price_over_time.png\", 31676)"
            ]
          },
          "metadata": {}
        }
      ]
    },
    {
      "cell_type": "code",
      "source": [
        "files.download('correlation_heatmap.png')"
      ],
      "metadata": {
        "colab": {
          "base_uri": "https://localhost:8080/",
          "height": 17
        },
        "id": "vtzqyCgx5up9",
        "outputId": "b776e0d5-510f-4193-d22e-5dff5e927967"
      },
      "execution_count": 31,
      "outputs": [
        {
          "output_type": "display_data",
          "data": {
            "text/plain": [
              "<IPython.core.display.Javascript object>"
            ],
            "application/javascript": [
              "\n",
              "    async function download(id, filename, size) {\n",
              "      if (!google.colab.kernel.accessAllowed) {\n",
              "        return;\n",
              "      }\n",
              "      const div = document.createElement('div');\n",
              "      const label = document.createElement('label');\n",
              "      label.textContent = `Downloading \"${filename}\": `;\n",
              "      div.appendChild(label);\n",
              "      const progress = document.createElement('progress');\n",
              "      progress.max = size;\n",
              "      div.appendChild(progress);\n",
              "      document.body.appendChild(div);\n",
              "\n",
              "      const buffers = [];\n",
              "      let downloaded = 0;\n",
              "\n",
              "      const channel = await google.colab.kernel.comms.open(id);\n",
              "      // Send a message to notify the kernel that we're ready.\n",
              "      channel.send({})\n",
              "\n",
              "      for await (const message of channel.messages) {\n",
              "        // Send a message to notify the kernel that we're ready.\n",
              "        channel.send({})\n",
              "        if (message.buffers) {\n",
              "          for (const buffer of message.buffers) {\n",
              "            buffers.push(buffer);\n",
              "            downloaded += buffer.byteLength;\n",
              "            progress.value = downloaded;\n",
              "          }\n",
              "        }\n",
              "      }\n",
              "      const blob = new Blob(buffers, {type: 'application/binary'});\n",
              "      const a = document.createElement('a');\n",
              "      a.href = window.URL.createObjectURL(blob);\n",
              "      a.download = filename;\n",
              "      div.appendChild(a);\n",
              "      a.click();\n",
              "      div.remove();\n",
              "    }\n",
              "  "
            ]
          },
          "metadata": {}
        },
        {
          "output_type": "display_data",
          "data": {
            "text/plain": [
              "<IPython.core.display.Javascript object>"
            ],
            "application/javascript": [
              "download(\"download_1e7f9e26-6c52-4523-9a88-98e484206b9c\", \"correlation_heatmap.png\", 48917)"
            ]
          },
          "metadata": {}
        }
      ]
    },
    {
      "cell_type": "code",
      "source": [
        "# Save summary statistics to a CSV file\n",
        "df.describe().to_csv('eda_summary_statistics.csv')\n",
        "print(\"Summary statistics saved successfully!\")"
      ],
      "metadata": {
        "colab": {
          "base_uri": "https://localhost:8080/"
        },
        "id": "XyGdR2-o5_Af",
        "outputId": "0e60ed3c-ab1f-49e9-8bcd-7d255114ce6f"
      },
      "execution_count": 32,
      "outputs": [
        {
          "output_type": "stream",
          "name": "stdout",
          "text": [
            "Summary statistics saved successfully!\n"
          ]
        }
      ]
    },
    {
      "cell_type": "code",
      "source": [
        "from google.colab import files\n",
        "files.download('eda_summary_statistics.csv')"
      ],
      "metadata": {
        "colab": {
          "base_uri": "https://localhost:8080/",
          "height": 17
        },
        "id": "ceXPxymn6g7B",
        "outputId": "7e8e22ef-77ca-490c-c72d-ff5c8fae057b"
      },
      "execution_count": 33,
      "outputs": [
        {
          "output_type": "display_data",
          "data": {
            "text/plain": [
              "<IPython.core.display.Javascript object>"
            ],
            "application/javascript": [
              "\n",
              "    async function download(id, filename, size) {\n",
              "      if (!google.colab.kernel.accessAllowed) {\n",
              "        return;\n",
              "      }\n",
              "      const div = document.createElement('div');\n",
              "      const label = document.createElement('label');\n",
              "      label.textContent = `Downloading \"${filename}\": `;\n",
              "      div.appendChild(label);\n",
              "      const progress = document.createElement('progress');\n",
              "      progress.max = size;\n",
              "      div.appendChild(progress);\n",
              "      document.body.appendChild(div);\n",
              "\n",
              "      const buffers = [];\n",
              "      let downloaded = 0;\n",
              "\n",
              "      const channel = await google.colab.kernel.comms.open(id);\n",
              "      // Send a message to notify the kernel that we're ready.\n",
              "      channel.send({})\n",
              "\n",
              "      for await (const message of channel.messages) {\n",
              "        // Send a message to notify the kernel that we're ready.\n",
              "        channel.send({})\n",
              "        if (message.buffers) {\n",
              "          for (const buffer of message.buffers) {\n",
              "            buffers.push(buffer);\n",
              "            downloaded += buffer.byteLength;\n",
              "            progress.value = downloaded;\n",
              "          }\n",
              "        }\n",
              "      }\n",
              "      const blob = new Blob(buffers, {type: 'application/binary'});\n",
              "      const a = document.createElement('a');\n",
              "      a.href = window.URL.createObjectURL(blob);\n",
              "      a.download = filename;\n",
              "      div.appendChild(a);\n",
              "      a.click();\n",
              "      div.remove();\n",
              "    }\n",
              "  "
            ]
          },
          "metadata": {}
        },
        {
          "output_type": "display_data",
          "data": {
            "text/plain": [
              "<IPython.core.display.Javascript object>"
            ],
            "application/javascript": [
              "download(\"download_9ba520a3-6488-42a3-996e-2fc4003a4be9\", \"eda_summary_statistics.csv\", 1312)"
            ]
          },
          "metadata": {}
        }
      ]
    }
  ]
}